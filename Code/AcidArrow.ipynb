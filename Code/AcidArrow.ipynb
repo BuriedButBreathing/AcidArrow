{
 "metadata": {
  "language_info": {
   "codemirror_mode": {
    "name": "ipython",
    "version": 3
   },
   "file_extension": ".py",
   "mimetype": "text/x-python",
   "name": "python",
   "nbconvert_exporter": "python",
   "pygments_lexer": "ipython3",
   "version": "3.8.5-final"
  },
  "orig_nbformat": 2,
  "kernelspec": {
   "name": "Python 3.8.5 64-bit",
   "display_name": "Python 3.8.5 64-bit",
   "metadata": {
    "interpreter": {
     "hash": "13687c686c5398df81bf2d1b594a60bb7e2ae5e6aba7245e2bcd71cdf7738937"
    }
   }
  }
 },
 "nbformat": 4,
 "nbformat_minor": 2,
 "cells": [
  {
   "source": [
    "! python -m pip install requests"
   ],
   "cell_type": "code",
   "metadata": {},
   "execution_count": null,
   "outputs": []
  },
  {
   "cell_type": "code",
   "execution_count": null,
   "metadata": {},
   "outputs": [],
   "source": [
    "from PIL import Image\n",
    "from IPython.display import Image as PyImage\n",
    "import requests"
   ]
  },
  {
   "cell_type": "code",
   "execution_count": 25,
   "metadata": {},
   "outputs": [
    {
     "output_type": "stream",
     "name": "stdout",
     "text": [
      "<Response [200]>\n(32, 34, 36, 255)\n(49, 50, 51, 255)\n(52, 53, 54, 255)\n(55, 56, 57, 255)\n(58, 59, 61, 255)\n(65, 66, 67, 255)\n(68, 69, 70, 255)\n(71, 72, 73, 255)\n(74, 75, 76, 255)\n(77, 78, 79, 255)\n(80, 81, 82, 255)\n(83, 84, 85, 255)\n(86, 87, 88, 255)\n(89, 90, 91, 255)\n(93, 95, 123, 255)\n(124, 125, 255, 255)\n(237, 28, 36, 255)\n(0, 255, 0, 255)\n['[char]32', '[char]34', '[char]36', '[char]255', '[char]49', '[char]50', '[char]51', '[char]255', '[char]52', '[char]53', '[char]54', '[char]255', '[char]55', '[char]56', '[char]57', '[char]255', '[char]58', '[char]59', '[char]61', '[char]255', '[char]65', '[char]66', '[char]67', '[char]255', '[char]68', '[char]69', '[char]70', '[char]255', '[char]71', '[char]72', '[char]73', '[char]255', '[char]74', '[char]75', '[char]76', '[char]255', '[char]77', '[char]78', '[char]79', '[char]255', '[char]80', '[char]81', '[char]82', '[char]255', '[char]83', '[char]84', '[char]85', '[char]255', '[char]86', '[char]87', '[char]88', '[char]255', '[char]89', '[char]90', '[char]91', '[char]255', '[char]93', '[char]95', '[char]123', '[char]255', '[char]124', '[char]125', '[char]255', '[char]255', '[char]237', '[char]28', '[char]36', '[char]255', '[char]0', '[char]255', '[char]0', '[char]255']\n"
     ]
    }
   ],
   "source": [
    "response = requests.get(\"https://github.com/BuriedButBreathing/AcidArrow/blob/master/Test.png?raw=true\")\n",
    "print(response)\n",
    "\n",
    "def ImageGet(path):\n",
    "    codex = Image.open(path)\n",
    "    pixelValues = list(codex.getdata())\n",
    "    del pixelValues[-19]\n",
    "    del pixelValues[-18]\n",
    "    print(sep=\"\\n\", *pixelValues)\n",
    "    carve_results = []\n",
    "    for pixels in pixelValues:\n",
    "        for values in pixels:\n",
    "            carve_results.append('[char]{}'.format(values))\n",
    "    #     carve_results.pop[53]\n",
    "    print(carve_results)\n",
    "ImageGet(\"C:\\\\Users\\\\higgi\\\\OneDrive\\\\Documents\\\\GitHub\\\\AcidArrow\\\\Assets\\\\test.png\")"
   ]
  }
 ]
}