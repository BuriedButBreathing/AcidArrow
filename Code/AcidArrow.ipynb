{
 "metadata": {
  "language_info": {
   "codemirror_mode": {
    "name": "ipython",
    "version": 3
   },
   "file_extension": ".py",
   "mimetype": "text/x-python",
   "name": "python",
   "nbconvert_exporter": "python",
   "pygments_lexer": "ipython3",
   "version": "3.8.5-final"
  },
  "orig_nbformat": 2,
  "kernelspec": {
   "name": "Python 3.8.5 64-bit",
   "display_name": "Python 3.8.5 64-bit",
   "metadata": {
    "interpreter": {
     "hash": "13687c686c5398df81bf2d1b594a60bb7e2ae5e6aba7245e2bcd71cdf7738937"
    }
   }
  }
 },
 "nbformat": 4,
 "nbformat_minor": 2,
 "cells": [
  {
   "source": [
    "! python -m pip install requests"
   ],
   "cell_type": "code",
   "metadata": {},
   "execution_count": null,
   "outputs": []
  },
  {
   "cell_type": "code",
   "execution_count": 12,
   "metadata": {},
   "outputs": [],
   "source": [
    "from PIL import Image\n",
    "from IPython.display import Image as PyImage\n",
    "import requests\n",
    "import io"
   ]
  },
  {
   "cell_type": "code",
   "execution_count": 14,
   "metadata": {},
   "outputs": [
    {
     "output_type": "stream",
     "name": "stdout",
     "text": [
      "<Response [200]>\n[(32, 34, 36, 255), (39, 40, 41, 255), (45, 47, 48, 255), (49, 50, 51, 255), (52, 53, 54, 255), (55, 56, 57, 255), (58, 59, 61, 255), (65, 66, 67, 255), (68, 69, 70, 255), (71, 72, 73, 255), (74, 75, 76, 255), (77, 78, 79, 255), (80, 81, 82, 255), (83, 84, 85, 255), (86, 87, 88, 255), (89, 90, 91, 255), (93, 95, 123, 255), (124, 125, 255, 255), (237, 28, 36, 255), (0, 255, 0, 255)]\n"
     ]
    }
   ],
   "source": [
    "response = requests.get(\"https://github.com/BuriedButBreathing/AcidArrow/blob/master/Test.png?raw=true\")\n",
    "print(response)\n",
    "imageBytes = io.BytesIO(response.content)\n",
    "img = Image.open(imageBytes)\n",
    "test = list(img.getdata())\n",
    "print(test)\n",
    "\n",
    "\n",
    "def ImageGet(path):\n",
    "    codex = Image.open(path)\n",
    "    pixelValues = list(codex.getdata())\n",
    "    del pixelValues[-19]\n",
    "    del pixelValues[-18]\n",
    "    print(sep=\"\\n\", *pixelValues)\n",
    "    carve_results = []\n",
    "    for pixels in pixelValues:\n",
    "        for values in pixels:\n",
    "            carve_results.append('[char]{}'.format(values))\n",
    "    #     carve_results.pop[53]\n",
    "    print(carve_results)\n",
    "# ImageGet(\"C:\\\\Users\\\\higgi\\\\OneDrive\\\\Documents\\\\GitHub\\\\AcidArrow\\\\Assets\\\\test.png\")"
   ]
  }
 ]
}